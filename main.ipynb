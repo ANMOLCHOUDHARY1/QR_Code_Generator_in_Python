{
 "cells": [
  {
   "cell_type": "code",
   "execution_count": 1,
   "metadata": {},
   "outputs": [],
   "source": [
    "import qrcode\n",
    "import image\n",
    "qr = qrcode.QRCode(\n",
    "    version = 15, #15 means the version of the qr code high the number bigger the code image and complicated picture\n",
    "    box_size = 5, #size of the box where the qr code will be displayed\n",
    "    border = 4 #it is the while part of image--border in all 4 sides with color\n",
    ")\n",
    "data = \"ANMOl_CHOUDHARY\"\n",
    "qr.add_data(data)\n",
    "qr.make(fit = True)\n",
    "img = qr.make_image(fill=\"black\",black_color = \"white\")\n",
    "img.save(\"test.png\")"
   ]
  }
 ],
 "metadata": {
  "kernelspec": {
   "display_name": "base",
   "language": "python",
   "name": "python3"
  },
  "language_info": {
   "codemirror_mode": {
    "name": "ipython",
    "version": 3
   },
   "file_extension": ".py",
   "mimetype": "text/x-python",
   "name": "python",
   "nbconvert_exporter": "python",
   "pygments_lexer": "ipython3",
   "version": "3.11.7"
  }
 },
 "nbformat": 4,
 "nbformat_minor": 2
}
